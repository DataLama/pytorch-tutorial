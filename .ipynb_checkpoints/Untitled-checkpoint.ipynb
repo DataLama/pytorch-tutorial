{
 "cells": [
  {
   "cell_type": "code",
   "execution_count": 1,
   "metadata": {},
   "outputs": [],
   "source": [
    "import os\n",
    "import torch\n",
    "import torchtext\n",
    "\n",
    "NGRAMS = 2"
   ]
  },
  {
   "cell_type": "code",
   "execution_count": null,
   "metadata": {},
   "outputs": [],
   "source": [
    "if not os.path.isdir('./.data'):\n",
    "    os.mkdir('./.data')"
   ]
  },
  {
   "cell_type": "code",
   "execution_count": 9,
   "metadata": {},
   "outputs": [
    {
     "data": {
      "text/plain": [
       "{'AG_NEWS': <function torchtext.datasets.text_classification.AG_NEWS(*args, **kwargs)>,\n",
       " 'SogouNews': <function torchtext.datasets.text_classification.SogouNews(*args, **kwargs)>,\n",
       " 'DBpedia': <function torchtext.datasets.text_classification.DBpedia(*args, **kwargs)>,\n",
       " 'YelpReviewPolarity': <function torchtext.datasets.text_classification.YelpReviewPolarity(*args, **kwargs)>,\n",
       " 'YelpReviewFull': <function torchtext.datasets.text_classification.YelpReviewFull(*args, **kwargs)>,\n",
       " 'YahooAnswers': <function torchtext.datasets.text_classification.YahooAnswers(*args, **kwargs)>,\n",
       " 'AmazonReviewPolarity': <function torchtext.datasets.text_classification.AmazonReviewPolarity(*args, **kwargs)>,\n",
       " 'AmazonReviewFull': <function torchtext.datasets.text_classification.AmazonReviewFull(*args, **kwargs)>}"
      ]
     },
     "execution_count": 9,
     "metadata": {},
     "output_type": "execute_result"
    }
   ],
   "source": [
    "train_dataset, test_dataset = torchtext.datasets.text_classification.DATASETS['AG_NEWS'](root='./.data', ngrams=NGRAMS, vocab=None)\n",
    "BATCH_SIZE = 16\n",
    "device = torch.device(\"cuda\" if torch.cuda.is_available() else \"cpu\")"
   ]
  },
  {
   "cell_type": "code",
   "execution_count": null,
   "metadata": {},
   "outputs": [],
   "source": []
  }
 ],
 "metadata": {
  "kernelspec": {
   "display_name": "Python 3",
   "language": "python",
   "name": "python3"
  },
  "language_info": {
   "codemirror_mode": {
    "name": "ipython",
    "version": 3
   },
   "file_extension": ".py",
   "mimetype": "text/x-python",
   "name": "python",
   "nbconvert_exporter": "python",
   "pygments_lexer": "ipython3",
   "version": "3.6.8"
  }
 },
 "nbformat": 4,
 "nbformat_minor": 4
}
